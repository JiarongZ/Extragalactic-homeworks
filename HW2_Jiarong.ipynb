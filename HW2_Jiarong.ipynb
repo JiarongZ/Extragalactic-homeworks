{
 "cells": [
  {
   "cell_type": "markdown",
   "metadata": {},
   "source": [
    "This problem tests the measurement of image centroids.\n",
    "\n",
    "(a) Write a piece of code to generate a fake, critically-sampled image of a double Gaussian, with a center that isn’t necessarily at the center of a pixel. For the second Gaussian, use A2 = 0.1A1 and σ2 = 2.47σ1, where A indicates the value at the center of the Gaussian. This choice is an approximate description of the atmospheric PSF (Jim Gunn, private communication).\n",
    "\n",
    "(b) Write a routine to find the light-weighted centroid of the image. Start by using the maximum pixel value, and use your knowledge of the PSF FWHM to calculate the center based on the light within 3 FWHM, and iterate to convergence.\n",
    "\n",
    "(c) Write a routine to find the mode of the image. Start by using the maximum pixel value, but then use the 3×3 grid of pixels in the center to perform a quadratic interpolation to find the peak.\n",
    "\n",
    "(d) Now add noise to the images, and use a Monte Carlo test to evaluate how the precision of each estimate depends on the total S/N within 3 FWHM."
   ]
  },
  {
   "cell_type": "code",
   "execution_count": 81,
   "metadata": {},
   "outputs": [],
   "source": [
    "import numpy as np\n",
    "import matplotlib.pyplot as plt"
   ]
  },
  {
   "cell_type": "markdown",
   "metadata": {},
   "source": [
    "(a) \n",
    "Generate double gaussian image, note that to contain all the information, the FWHM of PSF should be at least 2 pixels. Here I set up (x,y) exactly equal to index (i,j) to make life easier. The real position of the peak is set up to be not at the center of a pixel.\n"
   ]
  },
  {
   "cell_type": "code",
   "execution_count": 174,
   "metadata": {},
   "outputs": [
    {
     "data": {
      "image/png": "[encoded data removed]",
      "text/plain": [
       "<Figure size 432x288 with 2 Axes>"
      ]
     },
     "metadata": {
      "needs_background": "light"
     },
     "output_type": "display_data"
    }
   ],
   "source": [
    "A1, A2 = 10, 1\n",
    "sig1 = 2\n",
    "sig2 = 2.47 * sig1\n",
    "xc, yc = 13.3, 14.1    #real center\n",
    "a = 2 * np.sqrt(2 * np.log(2))  # a ~ 2.4\n",
    "FWHM1, FWHM2 = a * sig1, a * sig2\n",
    "\n",
    "dx, dy = 1, 1   #dx,dy<=sqrt(2*np.log(2))*sig1~1.2\n",
    "x = np.arange(0, 30., dx)\n",
    "y = np.arange(0.,30., dy)\n",
    "xx, yy = np.meshgrid(x, y)  #xx,yy=i,j\n",
    "Nx = len(x)\n",
    "Ny = len(y)\n",
    "\n",
    "#z = 1/(2*np.pi*sig1*sig2)*np.exp(-(xx - x1)**2/(2*sig1**2) - (yy - y1)**2/(2*sig2**2))\n",
    "z = A1 * np.exp(-((xx - x0)**2 + (yy - y0)**2)/(2*sig1**2)) + A2 * np.exp(-((xx - x0)**2 + (yy - y0)**2)/(2*sig2**2))\n",
    "z = z.transpose()\n",
    "#refer to value at (xx,yy): z[i,j]\n",
    "\n",
    "plt.figure()\n",
    "plt.imshow(z, cmap='gray', vmin=z.min(), vmax=z.max(),\n",
    "           extent=[x.min(), x.max(), y.min(), y.max()],\n",
    "           interpolation='nearest', origin='lower')\n",
    "plt.title('image (nearest)')\n",
    "plt.colorbar()\n",
    "plt.show()"
   ]
  },
  {
   "cell_type": "markdown",
   "metadata": {},
   "source": [
    "(b) Light-weighted centroid can be calculated through this equation:\n",
    "\n",
    "$x_{i,0} = \\frac{\\sum x_i* flux}{\\sum flux}$\n",
    "\n",
    "The FWHM of PSF should be of the same order as the maximum in {FWHM1, FWHM2}, so I use the latter to give 3FWHM range."
   ]
  },
  {
   "cell_type": "code",
   "execution_count": 224,
   "metadata": {},
   "outputs": [
    {
     "name": "stdout",
     "output_type": "stream",
     "text": [
      "The light-weighted centroid:(x0,y0)= (13.322906196279769, 14.107240242648615)\n"
     ]
    }
   ],
   "source": [
    "def light_weighted_centroid(z,noise):\n",
    "    data = z + noise\n",
    "    index = np.where(data == np.amax(data)) # find index of pixel with maximum value\n",
    "    i0, j0 = index[0].item(),index[1].item()\n",
    "\n",
    "    R = int(3 * max(FWHM2,FWHM1) /dx)\n",
    "    \n",
    "    l0 = 0  #0th order moment\n",
    "    l1 = np.array([0,0])  #1st order moment\n",
    "\n",
    "    for i in range(len(x)):\n",
    "        for j in range(len(y)):\n",
    "            if ((i-i0)**2+(j-j0)**2<=R**2):\n",
    "                l0 = l0 + data[i,j]\n",
    "                l1 = l1 + np.array([i,j])*data[i,j]\n",
    "            \n",
    "    (x0,y0)=l1/l0  #light-weighted centroid\n",
    "    \n",
    "    return x0,y0\n",
    "           \n",
    "x0,y0 = light_weighted_centroid(z,np.zeros((Nx,Ny)))\n",
    "print('The light-weighted centroid:(x0,y0)=',(x0,y0))"
   ]
  },
  {
   "cell_type": "markdown",
   "metadata": {},
   "source": [
    "(c) Use values of 3*3 grid of pixels while the center pixel has maximum pixel value, perform quadratic fitting, i.e. fitting to function $f = c_0 + c_1 x+c_2 y +c_3 x^2 + c_4 y^2 $. With all coefficients fitted, we can estimate the centroid to be at $x_0 = - \\frac{c_3}{2 c_1}, y_0 = - \\frac{c_4}{2 c_2}$. Since the number of data points is 9, which is greater than the number of coefficients needed to fit, we can apply svd to make use of all data."
   ]
  },
  {
   "cell_type": "code",
   "execution_count": 225,
   "metadata": {},
   "outputs": [
    {
     "name": "stdout",
     "output_type": "stream",
     "text": [
      "The centroid estimated by quadratic fitting: (x0,y0)= (12.98121806496093, 13.982273518894052)\n"
     ]
    }
   ],
   "source": [
    "def quad_fitting_centroid(z,noise):\n",
    "    data = z + noise\n",
    "    index = np.where(data == np.amax(data)) # find index of pixel with maximum value\n",
    "    i0, j0 = index[0].item(),index[1].item()\n",
    "    X0, X1, X2, X3, X4 = np.ones(9),[],[],[],[]\n",
    "    Y = []\n",
    "\n",
    "    for i in range(i0-1,i0+2):\n",
    "        for j in range(j0-1,j0+2):\n",
    "            X1.append(i)\n",
    "            X2.append(j)\n",
    "            X3.append(i**2)\n",
    "            X4.append(j**2)\n",
    "            Y.append(np.log(z[i,j]))\n",
    "        \n",
    "    B = np.array([X0,X1,X2,X3,X4])  \n",
    "    A = B.transpose()\n",
    "    (u, w, v) = np.linalg.svd(A, full_matrices=False)\n",
    "    inv_w = 1./w \n",
    "    c = v.transpose().dot(np.diag(inv_w)).dot(u.transpose()).dot(Y)\n",
    "\n",
    "    x0,y0 = i0+c[3]/(2*c[1]),j0+c[4]/2/c[2]\n",
    "\n",
    "    return x0,y0\n",
    "\n",
    "x0,y0 = quad_fitting_centroid(z,np.zeros((Nx,Ny)))\n",
    "print('The centroid estimated by quadratic fitting: (x0,y0)=',(x0,y0))"
   ]
  },
  {
   "cell_type": "markdown",
   "metadata": {},
   "source": [
    "(d) Add noise to the image and estimate the position of centroid by two estimators above. Use Monte Carlo to calculate Root Mean Square Error(RMSE) of the sample mean of two estimators."
   ]
  },
  {
   "cell_type": "code",
   "execution_count": 234,
   "metadata": {},
   "outputs": [
    {
     "name": "stdout",
     "output_type": "stream",
     "text": [
      "0.645812243600462 0.2166019916480489 0.9025707929192969\n"
     ]
    }
   ],
   "source": [
    "def RMSE_by_MC(estimator,noise_level,signal,xc,yc): #noise=noise_level*np.random.rand(Nx,Ny)\n",
    "    Nx = Ny = len(signal)\n",
    "    n,k = 10,100\n",
    "    \n",
    "    mse1 = []\n",
    "    mse2 = []    \n",
    "    \n",
    "    for i in range(k):\n",
    "\n",
    "        X = []\n",
    "        Y = []\n",
    "        for j in range(n):\n",
    "            noise = noise_level * np.random.rand(Nx,Ny)\n",
    "            x0,y0 = estimator(signal,noise)\n",
    "            X.append(x0)\n",
    "            Y.append(y0)\n",
    "\n",
    "                \n",
    "        mse1.append((xc-np.mean(X))**2)\n",
    "        mse2.append((yc-np.mean(Y))**2)\n",
    "        \n",
    "    MSE1 = np.mean(mse1)\n",
    "    MSE2 = np.mean(mse2)\n",
    "    RMSE1 = np.sqrt(MSE1)\n",
    "    RMSE2 = np.sqrt(MSE2)\n",
    "    \n",
    "    return RMSE1,RMSE2\n",
    "\n",
    "R = int(3 * max(FWHM2,FWHM1) /dx)\n",
    "\n",
    "def SNR(z,noise_level,R):\n",
    "    Nx = Ny = len(z)\n",
    "    s = 0\n",
    "    n = 0\n",
    "    noise = noise_level * np.random.rand(Nx,Ny)\n",
    "    \n",
    "    for i in range(Nx):\n",
    "        for j in range(Ny):\n",
    "            if ((i-i0)**2+(j-j0)**2<=R**2):\n",
    "                s = s + z[i,j]\n",
    "                n = n + noise[i,j]\n",
    "                \n",
    "    snr = s/n    \n",
    "    return snr\n",
    "\n",
    "noise_level = 1 #an example\n",
    "snr = SNR(z,noise_level,R)\n",
    "r1,r2 = RMSE_by_MC(light_weighted_centroid,noise_level,z,xc,yc)\n",
    "print(r1,r2,snr) \n"
   ]
  },
  {
   "cell_type": "markdown",
   "metadata": {},
   "source": [
    "Below I generate a series of noises and calculate RMSEs of xc and yc for both estimators. Then plot RMSEs as a function of S/N within 3FWHM."
   ]
  },
  {
   "cell_type": "code",
   "execution_count": 246,
   "metadata": {},
   "outputs": [],
   "source": [
    "noise_level_list = [0.05,0.1,0.5,1,5,10]\n",
    "\n",
    "snr = []\n",
    "rx1,ry1 = [],[]\n",
    "rx2,ry2 = [],[]\n",
    "\n",
    "for noise_level in noise_level_list:\n",
    "    snr.append(SNR(z,noise_level,R))\n",
    "    rrx1,rry1 = RMSE_by_MC(light_weighted_centroid,noise_level,z,xc,yc)\n",
    "    rrx2,rry2 = RMSE_by_MC(quad_fitting_centroid,noise_level,z,xc,yc)\n",
    "    rx1.append(rrx1)\n",
    "    ry1.append(rry1)\n",
    "    rx2.append(rrx2)\n",
    "    ry2.append(rry2)\n"
   ]
  },
  {
   "cell_type": "code",
   "execution_count": 247,
   "metadata": {},
   "outputs": [
    {
     "data": {
      "image/png": "[encoded data removed]",
      "text/plain": [
       "<Figure size 432x288 with 1 Axes>"
      ]
     },
     "metadata": {
      "needs_background": "light"
     },
     "output_type": "display_data"
    }
   ],
   "source": [
    "plt.figure()\n",
    "plt.plot(snr,rx1,label='xc,light-weighted')\n",
    "plt.plot(snr,ry1,label='yc,light-weighted')\n",
    "plt.plot(snr,rx2,label='xc,quadratic fitting')\n",
    "plt.plot(snr,ry2,label='yc,quadratic fitting')\n",
    "plt.xlabel('S/N within 3FWHM')\n",
    "plt.ylabel('error')\n",
    "plt.legend()\n",
    "plt.show()"
   ]
  },
  {
   "cell_type": "markdown",
   "metadata": {},
   "source": [
    "From the diagram, we can see that the greater S/N is, the better estimates both estimator will give. For both estimators, somehow the error of xc is greater than the error of yc, I guess it is because the real centroid that I set up is (13.3,14.1), where xc is more off-center within the pixel, thus it's harder to estimate xc than yc."
   ]
  }
 ],
 "metadata": {
  "kernelspec": {
   "display_name": "Python 3",
   "language": "python",
   "name": "python3"
  },
  "language_info": {
   "codemirror_mode": {
    "name": "ipython",
    "version": 3
   },
   "file_extension": ".py",
   "mimetype": "text/x-python",
   "name": "python",
   "nbconvert_exporter": "python",
   "pygments_lexer": "ipython3",
   "version": "3.7.6"
  }
 },
 "nbformat": 4,
 "nbformat_minor": 4
}
