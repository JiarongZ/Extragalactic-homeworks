{
 "cells": [
  {
   "cell_type": "markdown",
   "metadata": {},
   "source": [
    "1.  Estimate fraction of the stellar mass in the Milky Way is in globular clusters. Assume each cluster has about 10^3 $M_⊙$, and that our known catalog of a few thousand is complete to 2–3 kpc but not further.\n",
    "\n",
    "Solution: The total stellar mass in the Milky Way is ~ $6*10^{10} M_\\odot$, the radius of Milky Way stellar halo is ~ 15kpc, suppose the Globular Clusters(GC) are distributed evenly in the stellar halo, our known catalog of a few thousand would only be ~ $(\\frac{2-3kpc}{15kpc})^3 \\sim 10^{-2} $ of the original amount. Thus the fraction of stellar mass in GCs would be\n",
    "$ \\sim \\frac{a\\ few * 10^3 * 10^3M_\\odot * 10^2}{6*10^{10} M_\\odot} * 100\\% \\sim 1\\%$.\n",
    "\n",
    "2. How many open clusters would have to have existed over the lifetime of the Milky Way for all the stars in the Milky Way disk to have formed in one?\n",
    "\n",
    "Solution: The Milky Way disk has stellar mass of ~ $6*10^{10} M_\\odot$(~ stellar mass of the MW because stellar mass in globular clusters account for only 1%), while typical open cluster mass is of order $10^2M_\\odot$, some large ones might be ~$10^4 M_\\odot$. Take a few $10^2M_\\odot$ as typical value, if all stars in the Milky Way disk are formed in open clusters, then the amount of open clusters would be of order $\\frac{6*10^{10}M_\\odot}{a\\ few * 10^2 M_\\odot}\\sim 10^8$.\n"
   ]
  },
  {
   "cell_type": "code",
   "execution_count": null,
   "metadata": {},
   "outputs": [],
   "source": []
  }
 ],
 "metadata": {
  "kernelspec": {
   "display_name": "Python 3",
   "language": "python",
   "name": "python3"
  },
  "language_info": {
   "codemirror_mode": {
    "name": "ipython",
    "version": 3
   },
   "file_extension": ".py",
   "mimetype": "text/x-python",
   "name": "python",
   "nbconvert_exporter": "python",
   "pygments_lexer": "ipython3",
   "version": "3.7.6"
  }
 },
 "nbformat": 4,
 "nbformat_minor": 4
}
