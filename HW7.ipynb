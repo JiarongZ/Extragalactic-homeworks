{
 "cells": [
  {
   "cell_type": "markdown",
   "metadata": {},
   "source": [
    "Problem description:\n",
    "\n",
    "Estimate the difference in mass-to-light ratio in the r-band between a 10 million year old and 10 billion year old stellar population. Assume that the solar mass stars (which dominate the flux of the older population) spend about 5% of their time at the tip of the red giant branch."
   ]
  },
  {
   "cell_type": "markdown",
   "metadata": {},
   "source": [
    "Ans: \n",
    "\n",
    "10 Myrs stellar population stars are mostly in main-sequence. Presumably the luminosity is dominated by O and B stars while mass is dominated by low mass stars. Since we're looking at mass-to-light ratio in r-band, the O and B stars are not contributing as much, while solar mass stars are dominating, so the overall mass-to-light ratio $\\frac{M}{L} \\sim \\frac{M_{\\odot}}{L_{\\odot,r}}$.\n",
    "\n",
    "Now, for the 10 Gyrs stellar population, this is the time around which solar mass stars enter the red giant branch. Luminosity of solar mass stars at red giant phase is of order $10^{3-4}L_{\\odot}$. Solar mass stars spend 5% of their time at the tip of the RGB, meaning that ~5% of solar mass stars will be at RGB phase, which luminosity is dominating. We can also assume the mass $M$ of the population, after 10 Gyrs evolution, has decreased to ~$\\frac{1}{2}M$, due to wind or other mechanism. With all these considerations, the mass-to-light ratio in r-band $\\frac{M'}{L'}\\sim \\frac{M_{\\odot}/2}{5\\%*10^{3-4}L_{\\odot,r}+95\\%*L_{\\odot,r}}\\sim \\frac{1}{10^{2-3}}\\frac{M_{\\odot}}{L_{\\odot,r}}$ ."
   ]
  },
  {
   "cell_type": "code",
   "execution_count": null,
   "metadata": {},
   "outputs": [],
   "source": []
  }
 ],
 "metadata": {
  "kernelspec": {
   "display_name": "Python 3",
   "language": "python",
   "name": "python3"
  },
  "language_info": {
   "codemirror_mode": {
    "name": "ipython",
    "version": 3
   },
   "file_extension": ".py",
   "mimetype": "text/x-python",
   "name": "python",
   "nbconvert_exporter": "python",
   "pygments_lexer": "ipython3",
   "version": "3.7.6"
  }
 },
 "nbformat": 4,
 "nbformat_minor": 4
}
